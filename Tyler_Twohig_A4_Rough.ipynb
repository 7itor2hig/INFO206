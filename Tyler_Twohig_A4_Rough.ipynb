{
 "cells": [
  {
   "cell_type": "code",
   "execution_count": 280,
   "id": "14b5aa0d",
   "metadata": {},
   "outputs": [],
   "source": [
    "#import packages\n",
    "\n",
    "import drawSvg as draw\n",
    "import random as rand"
   ]
  },
  {
   "cell_type": "code",
   "execution_count": 281,
   "id": "64756620",
   "metadata": {},
   "outputs": [],
   "source": [
    "canvas_width = 200\n",
    "canvas_height = 200\n",
    "\n",
    "ball_num = 10\n",
    "ball_rad = 10\n",
    "\n",
    "timestep = 1\n",
    "\n",
    "ball_x_pos = []\n",
    "ball_y_pos = []\n",
    "ball_x_vel = []\n",
    "ball_y_vel = []\n",
    "ball_color = []\n",
    "balls = []\n",
    "\n",
    "color = \"blue\""
   ]
  },
  {
   "cell_type": "code",
   "execution_count": 152,
   "id": "38e6b97b",
   "metadata": {},
   "outputs": [],
   "source": [
    "#ball color\n",
    "\n",
    "def set_ball_color(color):\n",
    "    \n",
    "    if color == \"random\":\n",
    "    \n",
    "        color_value = rand.randint(0,2)\n",
    "        \n",
    "        if color_value == 0:\n",
    "            color = \"red\"\n",
    "            \n",
    "        elif color_value == 1:\n",
    "            color = \"green\"\n",
    "            \n",
    "        elif color_value == 2:\n",
    "            color = \"blue\"\n",
    "    \n",
    "    return color"
   ]
  },
  {
   "cell_type": "code",
   "execution_count": 153,
   "id": "6f1537e9",
   "metadata": {},
   "outputs": [],
   "source": [
    "#assign starting location for balls\n",
    "\n",
    "def set_ball_start():\n",
    "\n",
    "    x_min = -canvas_width/2 + ball_rad\n",
    "    x_max =  canvas_width/2 - ball_rad\n",
    "    y_min = -canvas_height/2 + ball_rad\n",
    "    y_max =  canvas_height/2 -ball_rad\n",
    "    \n",
    "    x = rand.randint(x_min, x_max)\n",
    "    y = rand.randint(y_min, y_max)\n",
    "            \n",
    "    return(x,y)"
   ]
  },
  {
   "cell_type": "code",
   "execution_count": 174,
   "id": "b5d6f2ab",
   "metadata": {},
   "outputs": [],
   "source": [
    "def create_balls(ball_num):\n",
    "    \n",
    "    for i in range(0, ball_num):\n",
    "        x, y = set_ball_start()\n",
    "    \n",
    "        ball_x_pos.insert(i, x)\n",
    "        ball_y_pos.insert(i, y)\n",
    "        ball_color.insert(i, set_ball_color(color))\n",
    "        ball_x_vel.insert(i, velocity)\n",
    "        ball_y_vel.insert(i, velocity)\n",
    "        \n",
    "    "
   ]
  },
  {
   "cell_type": "code",
   "execution_count": 287,
   "id": "847be9db",
   "metadata": {},
   "outputs": [],
   "source": [
    "ball_x_pos = []\n",
    "ball_y_pos = []\n",
    "ball_color = []\n",
    "ball_x_vel = []\n",
    "ball_y_vel = []\n",
    "create_balls(ball_num)"
   ]
  },
  {
   "cell_type": "code",
   "execution_count": 298,
   "id": "03b13876",
   "metadata": {
    "scrolled": true
   },
   "outputs": [
    {
     "name": "stdout",
     "output_type": "stream",
     "text": [
      "[-26, -86, -91, -40, -84, -37, -73, -91, -57, -98, 71, 30, 82, 27, 74, 91, 50, 30, 76, 71]\n",
      "[-82, -9, -34, -74, -86, -96, -33, -42, -53, -17, 19, 95, 65, 95, 24, 84, 16, 17, 26, 53]\n",
      "['blue', 'blue', 'blue', 'blue', 'blue', 'blue', 'blue', 'blue', 'blue', 'blue', 'blue', 'blue', 'blue', 'blue', 'blue', 'blue', 'blue', 'blue', 'blue', 'blue']\n",
      "[-1, 1, -1, 1, 1, 1, 1, 1, -1, -1, -1, 1, -1, 1, 1, 1, 1, -1, -1, -1]\n",
      "[-1, -1, 1, -1, -1, 1, -1, 1, -1, -1, -1, 1, 1, -1, -1, 1, 1, -1, -1, -1]\n"
     ]
    }
   ],
   "source": [
    "print(ball_x_pos)\n",
    "print(ball_y_pos)\n",
    "print(ball_color)\n",
    "print(ball_x_vel)\n",
    "print(ball_y_vel)"
   ]
  },
  {
   "cell_type": "code",
   "execution_count": 265,
   "id": "624a4529",
   "metadata": {},
   "outputs": [],
   "source": [
    "def draw_ball():\n",
    "    balls = draw.Circle(ball_x_pos[i],ball_y_pos[i], ball_rad, fill=ball_color[i])\n",
    "        \n",
    "    \n",
    "    \n",
    "#def draw_frame():\n",
    "#    d = draw.Drawing(canvas_width, canvas_height, origin=\"center\")\n",
    "#    update_position(i)\n",
    "#    d.append(draw_ball())\n",
    "#    return(d)\n",
    "    "
   ]
  },
  {
   "cell_type": "code",
   "execution_count": 284,
   "id": "0fde6e57",
   "metadata": {},
   "outputs": [],
   "source": [
    "def draw_frame():\n",
    "    d = draw.Drawing(canvas_width, canvas_height, origin=\"center\", fill=\"black\")\n",
    "    update_position(i)\n",
    "    draw_ball()\n",
    "    return(d)"
   ]
  },
  {
   "cell_type": "code",
   "execution_count": null,
   "id": "f98ec1f5",
   "metadata": {},
   "outputs": [],
   "source": [
    "def update_position(i):\n",
    "    for i in range(0, ball_num):\n",
    "        ball_x_pos[i] = ball_x_pos[i] + timestep * ball_x_vel[i]\n",
    "        ball_y_pos[i] = ball_y_pos[i] + timestep * ball_y_vel[i]\n",
    "        \n",
    "        if ball_x_pos[i] == canvas_width/2 or ball_x_pos[i] == -canvas_width/2:\n",
    "            ball_x_vel[i] *= -1\n",
    "    \n",
    "        if ball_y_pos[i] == canvas_height/2 or ball_y_pos[i] == -canvas_height/2:\n",
    "            ball_y_vel[i] *= -1\n",
    "    \n",
    "    return()"
   ]
  },
  {
   "cell_type": "code",
   "execution_count": 301,
   "id": "e0c0070c",
   "metadata": {},
   "outputs": [
    {
     "data": {
      "image/svg+xml": [
       "<?xml version=\"1.0\" encoding=\"UTF-8\"?>\n",
       "<svg xmlns=\"http://www.w3.org/2000/svg\" xmlns:xlink=\"http://www.w3.org/1999/xlink\"\n",
       "     width=\"200\" height=\"200\" viewBox=\"-100.0 -100.0 200 200\" fill=\"black\">\n",
       "<defs>\n",
       "</defs>\n",
       "</svg>"
      ],
      "text/plain": [
       "<drawSvg.drawing.Drawing at 0x7f94a57e70d0>"
      ]
     },
     "metadata": {},
     "output_type": "display_data"
    },
    {
     "ename": "KeyboardInterrupt",
     "evalue": "",
     "output_type": "error",
     "traceback": [
      "\u001b[0;31m---------------------------------------------------------------------------\u001b[0m",
      "\u001b[0;31mKeyboardInterrupt\u001b[0m                         Traceback (most recent call last)",
      "Cell \u001b[0;32mIn[301], line 6\u001b[0m\n\u001b[1;32m      4\u001b[0m         d \u001b[38;5;241m=\u001b[39m draw\u001b[38;5;241m.\u001b[39mDrawing(canvas_width, canvas_height, origin\u001b[38;5;241m=\u001b[39m\u001b[38;5;124m'\u001b[39m\u001b[38;5;124mcenter\u001b[39m\u001b[38;5;124m'\u001b[39m ) \u001b[38;5;66;03m# erase canvas\u001b[39;00m\n\u001b[1;32m      5\u001b[0m         d\u001b[38;5;241m.\u001b[39mappend(draw\u001b[38;5;241m.\u001b[39mRectangle(\u001b[38;5;241m-\u001b[39mcanvas_width\u001b[38;5;241m/\u001b[39m\u001b[38;5;241m2\u001b[39m,\u001b[38;5;241m-\u001b[39mcanvas_height\u001b[38;5;241m/\u001b[39m\u001b[38;5;241m2\u001b[39m,canvas_width,canvas_height, fill\u001b[38;5;241m=\u001b[39m\u001b[38;5;124m'\u001b[39m\u001b[38;5;124mblack\u001b[39m\u001b[38;5;124m'\u001b[39m))\n\u001b[0;32m----> 6\u001b[0m         \u001b[43manim\u001b[49m\u001b[38;5;241;43m.\u001b[39;49m\u001b[43mdraw_frame\u001b[49m\u001b[43m(\u001b[49m\u001b[43m)\u001b[49m\n\u001b[1;32m      7\u001b[0m d\n",
      "File \u001b[0;32m~/anaconda3/lib/python3.10/site-packages/drawSvg/animation.py:22\u001b[0m, in \u001b[0;36mAnimation.draw_frame\u001b[0;34m(self, *args, **kwargs)\u001b[0m\n\u001b[1;32m     20\u001b[0m \u001b[38;5;28;01mdef\u001b[39;00m \u001b[38;5;21mdraw_frame\u001b[39m(\u001b[38;5;28mself\u001b[39m, \u001b[38;5;241m*\u001b[39margs, \u001b[38;5;241m*\u001b[39m\u001b[38;5;241m*\u001b[39mkwargs):\n\u001b[1;32m     21\u001b[0m     frame \u001b[38;5;241m=\u001b[39m \u001b[38;5;28mself\u001b[39m\u001b[38;5;241m.\u001b[39mdraw_func(\u001b[38;5;241m*\u001b[39margs, \u001b[38;5;241m*\u001b[39m\u001b[38;5;241m*\u001b[39mkwargs)\n\u001b[0;32m---> 22\u001b[0m     \u001b[38;5;28;43mself\u001b[39;49m\u001b[38;5;241;43m.\u001b[39;49m\u001b[43mappend_frame\u001b[49m\u001b[43m(\u001b[49m\u001b[43mframe\u001b[49m\u001b[43m)\u001b[49m\n\u001b[1;32m     23\u001b[0m     \u001b[38;5;28;01mreturn\u001b[39;00m frame\n",
      "File \u001b[0;32m~/anaconda3/lib/python3.10/site-packages/drawSvg/animation.py:18\u001b[0m, in \u001b[0;36mAnimation.append_frame\u001b[0;34m(self, frame)\u001b[0m\n\u001b[1;32m     16\u001b[0m \u001b[38;5;28;01mdef\u001b[39;00m \u001b[38;5;21mappend_frame\u001b[39m(\u001b[38;5;28mself\u001b[39m, frame):\n\u001b[1;32m     17\u001b[0m     \u001b[38;5;28mself\u001b[39m\u001b[38;5;241m.\u001b[39mframes\u001b[38;5;241m.\u001b[39mappend(frame)\n\u001b[0;32m---> 18\u001b[0m     \u001b[38;5;28;43mself\u001b[39;49m\u001b[38;5;241;43m.\u001b[39;49m\u001b[43mcallback\u001b[49m\u001b[43m(\u001b[49m\u001b[43mframe\u001b[49m\u001b[43m)\u001b[49m\n",
      "File \u001b[0;32m~/anaconda3/lib/python3.10/site-packages/drawSvg/animation.py:61\u001b[0m, in \u001b[0;36mAnimationContext.draw_jupyter_frame\u001b[0;34m(self, frame)\u001b[0m\n\u001b[1;32m     59\u001b[0m     \u001b[38;5;28minput\u001b[39m(\u001b[38;5;124m'\u001b[39m\u001b[38;5;124mNext?\u001b[39m\u001b[38;5;124m'\u001b[39m)\n\u001b[1;32m     60\u001b[0m \u001b[38;5;28;01melif\u001b[39;00m \u001b[38;5;28mself\u001b[39m\u001b[38;5;241m.\u001b[39mdelay \u001b[38;5;241m!=\u001b[39m \u001b[38;5;241m0\u001b[39m:\n\u001b[0;32m---> 61\u001b[0m     \u001b[43mtime\u001b[49m\u001b[38;5;241;43m.\u001b[39;49m\u001b[43msleep\u001b[49m\u001b[43m(\u001b[49m\u001b[38;5;28;43mself\u001b[39;49m\u001b[38;5;241;43m.\u001b[39;49m\u001b[43mdelay\u001b[49m\u001b[43m)\u001b[49m\n",
      "\u001b[0;31mKeyboardInterrupt\u001b[0m: "
     ]
    }
   ],
   "source": [
    "with draw.animate_jupyter(draw_frame, delay=0.05) as anim:\n",
    "    \n",
    "    while( True ):\n",
    "        d = draw.Drawing(canvas_width, canvas_height, origin='center' ) # erase canvas\n",
    "        d.append(draw.Rectangle(-canvas_width/2,-canvas_height/2,canvas_width,canvas_height, fill='black'))\n",
    "        anim.draw_frame()\n",
    "d\n",
    "        "
   ]
  },
  {
   "cell_type": "code",
   "execution_count": null,
   "id": "1a125d6f",
   "metadata": {},
   "outputs": [],
   "source": []
  },
  {
   "cell_type": "code",
   "execution_count": null,
   "id": "7f3a041f",
   "metadata": {},
   "outputs": [],
   "source": []
  }
 ],
 "metadata": {
  "kernelspec": {
   "display_name": "Python 3 (ipykernel)",
   "language": "python",
   "name": "python3"
  },
  "language_info": {
   "codemirror_mode": {
    "name": "ipython",
    "version": 3
   },
   "file_extension": ".py",
   "mimetype": "text/x-python",
   "name": "python",
   "nbconvert_exporter": "python",
   "pygments_lexer": "ipython3",
   "version": "3.10.9"
  }
 },
 "nbformat": 4,
 "nbformat_minor": 5
}
