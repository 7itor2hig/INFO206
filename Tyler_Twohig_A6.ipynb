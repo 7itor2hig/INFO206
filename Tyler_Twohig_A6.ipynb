{
 "cells": [
  {
   "cell_type": "code",
   "execution_count": 1,
   "id": "9ac09ff9",
   "metadata": {},
   "outputs": [],
   "source": [
    "def sum_num(numbers):\n",
    "    \n",
    "    #check to see if there are numbers present in the list,\n",
    "    #if the list is empty, return 0\n",
    "    if not numbers:\n",
    "        return 0\n",
    "    \n",
    "    #if the first number in the list is even, sum that number\n",
    "    #and all numbers after the first number in the list run \n",
    "    #through the function\n",
    "    else:\n",
    "        if numbers[0] % 2 == 0:\n",
    "            return numbers[0] + sum_num(numbers[1:])\n",
    "        \n",
    "    #else, call the function again with all numbers in the \n",
    "    #list after the first number   \n",
    "        else: \n",
    "            return 0 + sum_num(numbers[1:])"
   ]
  },
  {
   "cell_type": "code",
   "execution_count": 2,
   "id": "ffb730c9",
   "metadata": {},
   "outputs": [
    {
     "data": {
      "text/plain": [
       "30"
      ]
     },
     "execution_count": 2,
     "metadata": {},
     "output_type": "execute_result"
    }
   ],
   "source": [
    "#list of int numbers\n",
    "numbers = [1,2,3,4,5,6,7,8,9,10]\n",
    "\n",
    "#sum all even numbers in the list numbers\n",
    "sum_num(numbers)\n"
   ]
  },
  {
   "cell_type": "code",
   "execution_count": 3,
   "id": "17f6309a",
   "metadata": {},
   "outputs": [],
   "source": [
    "def rec_palindrome(word):\n",
    "    \n",
    "    #if the length of the string is equal to or less than\n",
    "    #the length of 1, the word is a palindrome\n",
    "    if len(word) <= 1:\n",
    "        return (True)\n",
    "    \n",
    "    #if the first and last letter are equal, call the function\n",
    "    #again, removing the first and last letter of the string input\n",
    "    elif word[0] == word[-1]:\n",
    "        return rec_palindrome(word[1:-1])\n",
    "    \n",
    "    #else the word is not a palindrome\n",
    "    else:\n",
    "        return (False)\n",
    "        "
   ]
  },
  {
   "cell_type": "code",
   "execution_count": 4,
   "id": "57b25959",
   "metadata": {
    "scrolled": true
   },
   "outputs": [
    {
     "data": {
      "text/plain": [
       "True"
      ]
     },
     "execution_count": 4,
     "metadata": {},
     "output_type": "execute_result"
    }
   ],
   "source": [
    "#string input\n",
    "word = \"racecar\"\n",
    "\n",
    "#check to see if word is a palindrome, True = palindrome, False = not a palindrome\n",
    "rec_palindrome(word)"
   ]
  },
  {
   "cell_type": "code",
   "execution_count": 26,
   "id": "d6c81895",
   "metadata": {},
   "outputs": [],
   "source": [
    "list1 = [[1,2,3,4],[1,2,3],[1,2,3,4,5],[1,2],[1,2,3,4,5,6]]\n",
    "max_list_length = 0\n",
    "max_position = 0\n",
    "n = len(list1)\n",
    "\n",
    "for i in range(0, n):\n",
    "    \n",
    "    if n >= max_list_length:\n",
    "        max_list_length = len(list1[i])\n",
    "        max_position = i"
   ]
  },
  {
   "cell_type": "code",
   "execution_count": 25,
   "id": "40907977",
   "metadata": {},
   "outputs": [
    {
     "name": "stdout",
     "output_type": "stream",
     "text": [
      "6 4\n"
     ]
    }
   ],
   "source": [
    "print(max_list_length, max_position)"
   ]
  },
  {
   "cell_type": "code",
   "execution_count": 9,
   "id": "aa1c2eed",
   "metadata": {},
   "outputs": [],
   "source": [
    "def count_even(L):\n",
    "    count = 0\n",
    "    for i in range(len(L)):\n",
    "        if L[i] % 2 == 0:\n",
    "            count += 1\n",
    "    return(count)"
   ]
  },
  {
   "cell_type": "code",
   "execution_count": 13,
   "id": "d0096f6b",
   "metadata": {},
   "outputs": [
    {
     "name": "stdout",
     "output_type": "stream",
     "text": [
      "5\n"
     ]
    }
   ],
   "source": [
    "L = [1,2,3,4,5,6,7,8,9,10]\n",
    "print(count_even(L))"
   ]
  },
  {
   "cell_type": "code",
   "execution_count": null,
   "id": "ac4f5280",
   "metadata": {},
   "outputs": [],
   "source": []
  }
 ],
 "metadata": {
  "kernelspec": {
   "display_name": "Python 3 (ipykernel)",
   "language": "python",
   "name": "python3"
  },
  "language_info": {
   "codemirror_mode": {
    "name": "ipython",
    "version": 3
   },
   "file_extension": ".py",
   "mimetype": "text/x-python",
   "name": "python",
   "nbconvert_exporter": "python",
   "pygments_lexer": "ipython3",
   "version": "3.10.9"
  }
 },
 "nbformat": 4,
 "nbformat_minor": 5
}
