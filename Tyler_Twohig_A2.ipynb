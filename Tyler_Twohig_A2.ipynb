{
 "cells": [
  {
   "cell_type": "code",
   "execution_count": 6,
   "id": "42402124",
   "metadata": {},
   "outputs": [],
   "source": [
    "filename=\"lucid.txt\""
   ]
  },
  {
   "cell_type": "code",
   "execution_count": 7,
   "id": "0c53f441",
   "metadata": {},
   "outputs": [],
   "source": [
    "# define a graph node\n",
    "class GraphNode:\n",
    "    def __init__(self, adjacent, data):\n",
    "        self.data = data\n",
    "        self.adjacent = adjacent\n",
    "        \n",
    "    def is_leaf(self):\n",
    "        return( len(self.adjacent) == 0 )\n",
    "        \n",
    "    def __str__(self):\n",
    "        return( self.data )"
   ]
  },
  {
   "cell_type": "code",
   "execution_count": 8,
   "id": "538c0f8b",
   "metadata": {},
   "outputs": [],
   "source": [
    "# parse each line of the story file\n",
    "def parse_line(line):\n",
    "    line=line.split(\"|\")\n",
    "    node_name = line[0]\n",
    "    adjacent_nodes = line[1].split(\",\")\n",
    "    text = line[2]\n",
    "    # YOUR CODE HERE: parse \"line\" and populate three variables \"node_name\", \"adjacent_nodes\", and \"text\"\n",
    "    #\n",
    "    # add all except empty strings\n",
    "    #print(text)\n",
    "    adjacent = []\n",
    "    for a in adjacent_nodes:\n",
    "        if a:\n",
    "            adjacent.append(a.strip())\n",
    "\n",
    "    return( node_name, adjacent, text )\n"
   ]
  },
  {
   "cell_type": "code",
   "execution_count": 9,
   "id": "7fa1be28",
   "metadata": {},
   "outputs": [],
   "source": [
    "# load the storty from the raw-text file     \n",
    "def load_story(filename):\n",
    "    node_dict = {}\n",
    "    file = open(filename, \"r\")    \n",
    "    for l in file:\n",
    "        # if this is a line in the correct format:\n",
    "        if len(l.split(\"|\")) == 3:\n",
    "            node_name, adjacent_nodes, text = parse_line(l)   \n",
    "            node = GraphNode(adjacent_nodes, text)\n",
    "            node_dict[node_name] = node\n",
    "\n",
    "    file.close()\n",
    "    return( node_dict )\n"
   ]
  },
  {
   "cell_type": "code",
   "execution_count": 10,
   "id": "04e588f5",
   "metadata": {
    "scrolled": true
   },
   "outputs": [
    {
     "name": "stdout",
     "output_type": "stream",
     "text": [
      " You find yourself lying in bed, but you can not move a muscle. You are paralyzed. Do you a) Try to wake up, or be b) Remain Calm?\n",
      "\n",
      "a\n",
      " With all of your might you are able to wake yourself up from your paralysis. a) Turn on the light\n",
      "\n",
      "a\n",
      " You lift yourself from your bed and turn on the light. You look at the clock and it reads 3:11 AM. You are too terrified of what you have experienced to return to bed. BAD END.\n",
      "\n",
      "THE END\n"
     ]
    }
   ],
   "source": [
    "# play the game\n",
    "def play_story(story_dict):    \n",
    "    story_node = story_dict[\"START\"]\n",
    "    print(story_node)\n",
    "\n",
    "    while not story_node.is_leaf():\n",
    "        choice = input()\n",
    "        choice = choice.lower()\n",
    "        choice = ord(choice) - 97\n",
    "        # YOUR CODE HERE: get user input and convert ordingal (a,b,c) into an integer (0,1,2) called \"choice\"\n",
    "\n",
    "        story_node = story_dict[ story_node.adjacent[choice] ]\n",
    "        print(story_node)\n",
    "\n",
    "    print(\"THE END\")\n",
    "\n",
    "story_dict = load_story(filename) # load story\n",
    "play_story(story_dict) # play the game"
   ]
  },
  {
   "cell_type": "code",
   "execution_count": null,
   "id": "53fc3275",
   "metadata": {},
   "outputs": [],
   "source": []
  }
 ],
 "metadata": {
  "kernelspec": {
   "display_name": "Python 3 (ipykernel)",
   "language": "python",
   "name": "python3"
  },
  "language_info": {
   "codemirror_mode": {
    "name": "ipython",
    "version": 3
   },
   "file_extension": ".py",
   "mimetype": "text/x-python",
   "name": "python",
   "nbconvert_exporter": "python",
   "pygments_lexer": "ipython3",
   "version": "3.10.9"
  }
 },
 "nbformat": 4,
 "nbformat_minor": 5
}
