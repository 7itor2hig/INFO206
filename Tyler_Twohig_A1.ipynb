{
 "cells": [
  {
   "cell_type": "code",
   "execution_count": 2,
   "id": "0ce36492",
   "metadata": {},
   "outputs": [],
   "source": [
    "#creates the repeating vertical characters for print_namelogo()\n",
    "def vertical_line():\n",
    "    print(\" \"*4,\"*\",\" \"*2, \"*\")\n",
    "    print(\" \"*4,\"*\",\" \"*2, \"*\")\n",
    "    print(\" \"*4,\"*\",\" \"*2, \"*\")\n",
    "    print(\" \"*4,\"*\",\" \"*2, \"*\")\n",
    "\n",
    "#prints a logo of initials and my name\n",
    "def print_namelogo():\n",
    "    print(\" \"*2,\"Tyler\")\n",
    "    print(\"*\"*11)\n",
    "    print(\" \"*4,\"*\")\n",
    "    vertical_line()\n",
    "    print(\" \"*9,\"*\")\n",
    "    print(\" \"*4,\"*\"*11)\n",
    "    print(\" \"*7,\"Twohig\")"
   ]
  },
  {
   "cell_type": "code",
   "execution_count": 3,
   "id": "da26be96",
   "metadata": {},
   "outputs": [
    {
     "name": "stdout",
     "output_type": "stream",
     "text": [
      "   Tyler\n",
      "***********\n",
      "     *\n",
      "     *    *\n",
      "     *    *\n",
      "     *    *\n",
      "     *    *\n",
      "          *\n",
      "     ***********\n",
      "        Twohig\n"
     ]
    }
   ],
   "source": [
    "print_namelogo()"
   ]
  },
  {
   "cell_type": "code",
   "execution_count": 4,
   "id": "3150e389",
   "metadata": {},
   "outputs": [],
   "source": [
    "import drawSvg as draw"
   ]
  },
  {
   "cell_type": "code",
   "execution_count": 5,
   "id": "b8e2709d",
   "metadata": {},
   "outputs": [
    {
     "data": {
      "image/svg+xml": [
       "<?xml version=\"1.0\" encoding=\"UTF-8\"?>\n",
       "<svg xmlns=\"http://www.w3.org/2000/svg\" xmlns:xlink=\"http://www.w3.org/1999/xlink\"\n",
       "     width=\"600\" height=\"300\" viewBox=\"-300.0 -150.0 600 300\">\n",
       "<defs>\n",
       "</defs>\n",
       "<circle cx=\"0\" cy=\"-50\" r=\"50\" fill=\"blue\" />\n",
       "<circle cx=\"0\" cy=\"50\" r=\"50\" fill=\"blue\" />\n",
       "<rect x=\"-70\" y=\"-100\" width=\"80\" height=\"200\" fill=\"blue\" />\n",
       "<rect x=\"-40\" y=\"-60\" width=\"40\" height=\"30\" fill=\"white\" />\n",
       "<rect x=\"-40\" y=\"30\" width=\"40\" height=\"30\" fill=\"white\" />\n",
       "<rect x=\"-150\" y=\"-100\" width=\"40\" height=\"200\" fill=\"blue\" />\n",
       "<rect x=\"-170\" y=\"60\" width=\"80\" height=\"40\" fill=\"blue\" />\n",
       "<rect x=\"-170\" y=\"-100\" width=\"80\" height=\"40\" fill=\"blue\" />\n",
       "<rect x=\"100\" y=\"-100\" width=\"140\" height=\"200\" fill=\"blue\" />\n",
       "<rect x=\"70\" y=\"60\" width=\"200\" height=\"40\" fill=\"blue\" />\n",
       "<rect x=\"70\" y=\"-100\" width=\"200\" height=\"40\" fill=\"blue\" />\n",
       "<path d=\"M150,-100 L200,-100 L175,0 Z\" fill=\"white\" />\n",
       "<path d=\"M135,100 L175,100 L135,-20 Z\" fill=\"white\" />\n",
       "<path d=\"M210,100 L175,100 L210,-20 Z\" fill=\"white\" />\n",
       "<rect x=\"-300\" y=\"-5\" width=\"600\" height=\"10\" fill=\"white\" />\n",
       "<rect x=\"-300\" y=\"25\" width=\"600\" height=\"10\" fill=\"white\" />\n",
       "<rect x=\"-300\" y=\"50\" width=\"600\" height=\"10\" fill=\"white\" />\n",
       "<rect x=\"-300\" y=\"75\" width=\"600\" height=\"10\" fill=\"white\" />\n",
       "<rect x=\"-300\" y=\"-35\" width=\"600\" height=\"10\" fill=\"white\" />\n",
       "<rect x=\"-300\" y=\"-65\" width=\"600\" height=\"10\" fill=\"white\" />\n",
       "<rect x=\"-300\" y=\"-90\" width=\"600\" height=\"10\" fill=\"white\" />\n",
       "</svg>"
      ],
      "text/plain": [
       "<drawSvg.drawing.Drawing at 0x7f9949f5a8c0>"
      ]
     },
     "execution_count": 5,
     "metadata": {},
     "output_type": "execute_result"
    }
   ],
   "source": [
    "#creates a 600x300px blank canvas\n",
    "d=draw.Drawing(600,300, origin=\"center\")\n",
    "\n",
    "#draws the shape for the \"B\" in \"IBM\"\n",
    "d.append(draw.Circle(0,50, 50, fill=\"blue\"))\n",
    "d.append(draw.Circle(0,-50, 50, fill=\"blue\"))\n",
    "d.append(draw.Rectangle(-70,-100, 80,200, fill=\"blue\"))\n",
    "d.append(draw.Rectangle(-40,30, 40,30, fill=\"white\"))\n",
    "d.append(draw.Rectangle(-40,-60, 40,30, fill=\"white\"))\n",
    "\n",
    "#draws the shape for the \"I\" in IBM\n",
    "d.append(draw.Rectangle(-150,-100, 40,200, fill=\"blue\"))\n",
    "d.append(draw.Rectangle(-170,-100, 80,40, fill=\"blue\"))\n",
    "d.append(draw.Rectangle(-170,60, 80,40, fill=\"blue\"))\n",
    "\n",
    "#draws the shape for the \"M\" in IBM\n",
    "d.append(draw.Rectangle(100,-100, 140,200, fill=\"blue\"))\n",
    "d.append(draw.Rectangle(70,-100, 200,40, fill=\"blue\"))\n",
    "d.append(draw.Rectangle(70,60, 200,40, fill=\"blue\"))\n",
    "d.append(draw.Lines(150,100, 200,100, 175,0,close=True,fill=\"white\"))\n",
    "d.append(draw.Lines(135,-100, 175,-100, 135,20,close=True,fill=\"white\"))\n",
    "d.append(draw.Lines(210,-100, 175,-100, 210,20,close=True,fill=\"white\"))\n",
    "\n",
    "#draws the horizontal stylized lines in the IBM logo\n",
    "d.append(draw.Rectangle(-300,-5, 600,10, fill=\"white\"))\n",
    "d.append(draw.Rectangle(-300,-35, 600,10, fill=\"white\"))\n",
    "d.append(draw.Rectangle(-300,-60, 600,10, fill=\"white\"))\n",
    "d.append(draw.Rectangle(-300,-85, 600,10, fill=\"white\"))\n",
    "d.append(draw.Rectangle(-300,25, 600,10, fill=\"white\"))\n",
    "d.append(draw.Rectangle(-300,55, 600,10, fill=\"white\"))\n",
    "d.append(draw.Rectangle(-300,80, 600,10, fill=\"white\"))\n",
    "\n",
    "d"
   ]
  },
  {
   "cell_type": "code",
   "execution_count": null,
   "id": "6c9693da",
   "metadata": {},
   "outputs": [],
   "source": []
  }
 ],
 "metadata": {
  "kernelspec": {
   "display_name": "Python 3 (ipykernel)",
   "language": "python",
   "name": "python3"
  },
  "language_info": {
   "codemirror_mode": {
    "name": "ipython",
    "version": 3
   },
   "file_extension": ".py",
   "mimetype": "text/x-python",
   "name": "python",
   "nbconvert_exporter": "python",
   "pygments_lexer": "ipython3",
   "version": "3.10.9"
  }
 },
 "nbformat": 4,
 "nbformat_minor": 5
}
